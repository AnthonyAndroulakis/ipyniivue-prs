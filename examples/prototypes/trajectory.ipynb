{
 "cells": [
  {
   "cell_type": "code",
   "execution_count": null,
   "metadata": {},
   "outputs": [],
   "source": [
    "from ipyniivue import NiiVue, SliceType\n",
    "\n",
    "# based on https://github.com/niivue/ipyniivue/blob/main/original_gallery.md#tractography-tck-trk-trx-vtk\n",
    "\n",
    "volumes = [\n",
    "    {\n",
    "        \"path\": \"images/mni152.nii.gz\",\n",
    "        \"colormap\": \"gray\",\n",
    "        \"visible\": True,\n",
    "        \"opacity\": 1.0,\n",
    "    },\n",
    "]\n",
    "\n",
    "nv = NiiVue(slice_type=SliceType.MULTIPLANAR)\n",
    "# nv.load_volumes(volumes)\n",
    "\n",
    "\n",
    "nv.load_meshes(\n",
    "    [\n",
    "        {\n",
    "            \"path\": \"images/dpsv.trx\",  # this does currently not load\n",
    "            \"rgba255\": [0, 142, 0, 255],\n",
    "        }\n",
    "    ]\n",
    ")\n",
    "\n",
    "\n",
    "nv"
   ]
  },
  {
   "cell_type": "code",
   "execution_count": null,
   "metadata": {},
   "outputs": [],
   "source": []
  }
 ],
 "metadata": {
  "kernelspec": {
   "display_name": "Python 3 (ipykernel)",
   "language": "python",
   "name": "python3"
  },
  "language_info": {
   "codemirror_mode": {
    "name": "ipython",
    "version": 3
   },
   "file_extension": ".py",
   "mimetype": "text/x-python",
   "name": "python",
   "nbconvert_exporter": "python",
   "pygments_lexer": "ipython3",
   "version": "3.11.6"
  }
 },
 "nbformat": 4,
 "nbformat_minor": 4
}
