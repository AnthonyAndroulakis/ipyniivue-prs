{
 "cells": [
  {
   "cell_type": "code",
   "execution_count": null,
   "id": "71c2f1ec-fdbf-4aae-8d09-77fd5988e11c",
   "metadata": {},
   "outputs": [],
   "source": [
    "from ipyniivue import NiiVue, SliceType\n",
    "\n",
    "# based on https://github.com/niivue/ipyniivue/blob/main/original_gallery.md#torso-regions\n",
    "\n",
    "volumes = [\n",
    "    {\n",
    "        \"path\": \"images/torso.nii.gz\",\n",
    "        \"colormap\": (0, 0, 0, 0),\n",
    "        \"visible\": True,\n",
    "        \"opacity\": 1.0,\n",
    "    },\n",
    "]\n",
    "\n",
    "nv = NiiVue(slice_type=SliceType.MULTIPLANAR)\n",
    "nv.load_volumes(volumes)\n",
    "\n",
    "nv"
   ]
  },
  {
   "cell_type": "code",
   "execution_count": null,
   "id": "593d466e-6bf6-47df-ba63-23b627f41da0",
   "metadata": {},
   "outputs": [],
   "source": [
    "cmap = {\n",
    "    \"R\": [0, 0, 185, 185, 252, 0, 103, 216, 127, 127, 0, 222],\n",
    "    \"G\": [0, 20, 102, 102, 0, 255, 76, 132, 0, 127, 255, 154],\n",
    "    \"B\": [0, 152, 83, 83, 0, 0, 71, 105, 127, 0, 255, 132],\n",
    "    \"A\": [0, 255, 255, 255, 255, 255, 255, 255, 255, 255, 255, 255],\n",
    "    \"labels\": [\n",
    "        \"background\",\n",
    "        \"1spleen\",\n",
    "        \"2kidneyR\",\n",
    "        \"3kidneyL\",\n",
    "        \"4gallbladder\",\n",
    "        \"5esophagus\",\n",
    "        \"6Liver\",\n",
    "        \"7stomach\",\n",
    "        \"8aorta\",\n",
    "        \"9inferiorvenacava\",\n",
    "        \"10pancreas\",\n",
    "        \"11bladder\",\n",
    "    ],\n",
    "}\n",
    "nv.setDrawColormap(cmap);"
   ]
  },
  {
   "cell_type": "code",
   "execution_count": null,
   "id": "94a1c95a-308b-4259-ac29-7512c48239b2",
   "metadata": {},
   "outputs": [],
   "source": []
  }
 ],
 "metadata": {
  "kernelspec": {
   "display_name": "Python 3 (ipykernel)",
   "language": "python",
   "name": "python3"
  },
  "language_info": {
   "codemirror_mode": {
    "name": "ipython",
    "version": 3
   },
   "file_extension": ".py",
   "mimetype": "text/x-python",
   "name": "python",
   "nbconvert_exporter": "python",
   "pygments_lexer": "ipython3",
   "version": "3.11.6"
  }
 },
 "nbformat": 4,
 "nbformat_minor": 5
}
