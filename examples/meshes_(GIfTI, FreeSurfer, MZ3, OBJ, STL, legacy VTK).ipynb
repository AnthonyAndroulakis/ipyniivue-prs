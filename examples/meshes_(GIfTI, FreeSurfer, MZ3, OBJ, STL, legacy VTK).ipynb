{
 "cells": [
  {
   "cell_type": "code",
   "execution_count": 1,
   "metadata": {},
   "outputs": [
    {
     "data": {
      "application/vnd.jupyter.widget-view+json": {
       "model_id": "05bb313319804b9fa0dd2166c1526597",
       "version_major": 2,
       "version_minor": 1
      },
      "text/plain": [
       "NiiVue(height=300)"
      ]
     },
     "execution_count": 1,
     "metadata": {},
     "output_type": "execute_result"
    }
   ],
   "source": [
    "from ipyniivue import NiiVue\n",
    "# based on https://github.com/niivue/ipyniivue/blob/main/original_gallery.md#meshes-gifti-freesurfer-mz3-obj-stl-legacy-vtk\n",
    "nv = NiiVue(\n",
    "    show_3d_crosshair=True, back_color=(1, 1, 1, 1), mesh_x_ray=0.3, is_colorbar=True\n",
    ")\n",
    "\n",
    "nv.load_meshes(\n",
    "    [\n",
    "        {\n",
    "            \"path\": \"images/BrainMesh_ICBM152.lh.mz3\",\n",
    "            \"rgba255\": [222, 164, 164, 255],\n",
    "        },\n",
    "        { \"path\": \"images/CIT168.mz3\", \"rgba255\": [0, 0, 255, 255] },\n",
    "    ]\n",
    ")\n",
    "\n",
    "nv\n",
    "\n",
    "# nv1.setMeshShader(nv1.meshes[0].id, \"Outline\"); does not seem to exist yet."
   ]
  },
  {
   "cell_type": "code",
   "execution_count": null,
   "metadata": {},
   "outputs": [],
   "source": []
  }
 ],
 "metadata": {},
 "nbformat": 4,
 "nbformat_minor": 4
}
