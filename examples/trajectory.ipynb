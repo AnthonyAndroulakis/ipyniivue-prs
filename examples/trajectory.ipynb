{
 "cells": [
  {
   "cell_type": "code",
   "execution_count": null,
   "metadata": {},
   "outputs": [],
   "source": [
    "from ipyniivue import NiiVue, SliceType\n",
    "# based on https://github.com/niivue/ipyniivue/blob/main/original_gallery.md#tractography-tck-trk-trx-vtk\n",
    "\n",
    "volumes = [\n",
    "  { \"path\": \"images/mni152.nii.gz\", \"colormap\": \"gray\", \"visible\": True, \"opacity\": 1.0 },\n",
    "\n",
    "]\n",
    "\n",
    "nv = NiiVue(slice_type=SliceType.MULTIPLANAR)\n",
    "#nv.load_volumes(volumes)\n",
    "\n",
    "\n",
    "nv.load_meshes(\n",
    "    [\n",
    "        {\n",
    "            \"path\": \"images/dpsv.trx\", # this does currently not load\n",
    "            \"rgba255\": [0, 142, 0, 255],\n",
    "        }\n",
    "    ]\n",
    ")\n",
    "\n",
    "\n",
    "\n",
    "nv"
   ]
  },
  {
   "cell_type": "code",
   "execution_count": null,
   "metadata": {},
   "outputs": [],
   "source": []
  }
 ],
 "metadata": {},
 "nbformat": 4,
 "nbformat_minor": 2
}
