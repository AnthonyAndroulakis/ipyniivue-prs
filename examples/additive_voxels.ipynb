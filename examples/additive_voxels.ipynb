{
 "cells": [
  {
   "cell_type": "code",
   "execution_count": 1,
   "metadata": {},
   "outputs": [
    {
     "data": {
      "application/vnd.jupyter.widget-view+json": {
       "model_id": "8e77b0fab1204e5191dbca06414c09a4",
       "version_major": 2,
       "version_minor": 1
      },
      "text/plain": [
       "NiiVue(height=300)"
      ]
     },
     "execution_count": 1,
     "metadata": {},
     "output_type": "execute_result"
    }
   ],
   "source": [
    "from ipyniivue import NiiVue\n",
    "\n",
    "# based on https://niivue.github.io/niivue/features/additive.voxels.html\n",
    "\n",
    "volumes = [\n",
    "    {   \"path\": \"images/mni152.nii.gz\" },\n",
    "    {\n",
    "        \"path\": \"images/narps-4965_9U7M-hypo1_unthresh.nii.gz\",\n",
    "        \"colormap\": \"red\",\n",
    "        \"cal_min\": 2,\n",
    "        \"cal_max\": 4,\n",
    "    },\n",
    "    {\n",
    "        \"path\": \"images/narps-4735_50GV-hypo1_unthresh.nii.gz\",\n",
    "        \"colormap\": \"green\",\n",
    "        \"cal_min\": 2,\n",
    "        \"cal_max\": 4,\n",
    "    },\n",
    "]\n",
    "nv = NiiVue(\n",
    "    back_color=(1, 1, 1, 1),\n",
    "    show_3D_crosshair=True,\n",
    "    is_colorbar=True,\n",
    ")\n",
    "nv.load_volumes(volumes)\n",
    "nv"
   ]
  },
  {
   "cell_type": "code",
   "execution_count": 2,
   "metadata": {},
   "outputs": [
    {
     "data": {
      "application/vnd.jupyter.widget-view+json": {
       "model_id": "cb5b42ba9d774dd69a613e644326eb2f",
       "version_major": 2,
       "version_minor": 0
      },
      "text/plain": [
       "HBox(children=(FloatSlider(value=0.2, max=0.4, min=0.1, step=0.01), FloatSlider(value=0.2, max=0.4, min=0.1, s…"
      ]
     },
     "execution_count": 2,
     "metadata": {},
     "output_type": "execute_result"
    }
   ],
   "source": [
    "import ipywidgets\n",
    "\n",
    "nv.volumes[0].colorbar_visible = False\n",
    "sred = ipywidgets.FloatSlider(min=0.1, max=0.4, step=0.01, value=0.2)\n",
    "ipywidgets.link((sred, \"value\"), (nv.volumes[1], \"cal_min\"))\n",
    "sgreen = ipywidgets.FloatSlider(min=0.1, max=0.4, step=0.01, value=0.2)\n",
    "ipywidgets.link((sgreen, \"value\"), (nv.volumes[2], \"cal_min\"))\n",
    "ipywidgets.HBox([sred, sgreen])"
   ]
  },
  {
   "cell_type": "code",
   "execution_count": null,
   "metadata": {},
   "outputs": [],
   "source": []
  }
 ],
 "metadata": {},
 "nbformat": 4,
 "nbformat_minor": 4
}
