{
 "cells": [
  {
   "cell_type": "code",
   "execution_count": 2,
   "id": "71c2f1ec-fdbf-4aae-8d09-77fd5988e11c",
   "metadata": {},
   "outputs": [
    {
     "data": {
      "application/vnd.jupyter.widget-view+json": {
       "model_id": "b19c2298162e4e06b73f44b43f747ba9",
       "version_major": 2,
       "version_minor": 1
      },
      "text/plain": [
       "NiiVue(height=300)"
      ]
     },
     "execution_count": 2,
     "metadata": {},
     "output_type": "execute_result"
    }
   ],
   "source": [
    "from ipyniivue import NiiVue, SliceType\n",
    "\n",
    "# based on https://github.com/niivue/ipyniivue/blob/main/original_gallery.md#tractography-tck-trk-trx-vtk\n",
    "\n",
    "volumes = [\n",
    "  { \"path\": \"images/mni152.nii.gz\", \"colormap\": \"gray\",\n",
    "   \"visible\": True, \"opacity\": 1.0 },\n",
    "\n",
    "]\n",
    "\n",
    "nv = NiiVue(slice_type=SliceType.MULTIPLANAR)\n",
    "nv.load_volumes(volumes)\n",
    "\n",
    "nv.load_meshes(\n",
    "    [\n",
    "        {\n",
    "            \"path\": \"images/BrainMesh_ICBM152.lh.mz3\",\n",
    "            \"rgba255\": [255, 255, 255, 255],\n",
    "        }\n",
    "    ]\n",
    ")\n",
    "\n",
    "\n",
    "nv"
   ]
  },
  {
   "cell_type": "code",
   "execution_count": null,
   "id": "593d466e-6bf6-47df-ba63-23b627f41da0",
   "metadata": {},
   "outputs": [],
   "source": []
  }
 ],
 "metadata": {
  "kernelspec": {
   "display_name": "Python 3 (ipykernel)",
   "language": "python",
   "name": "python3"
  },
  "language_info": {
   "codemirror_mode": {
    "name": "ipython",
    "version": 3
   },
   "file_extension": ".py",
   "mimetype": "text/x-python",
   "name": "python",
   "nbconvert_exporter": "python",
   "pygments_lexer": "ipython3",
   "version": "3.11.6"
  }
 },
 "nbformat": 4,
 "nbformat_minor": 5
}
