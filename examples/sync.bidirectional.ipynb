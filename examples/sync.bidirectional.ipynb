{
 "cells": [
  {
   "cell_type": "markdown",
   "metadata": {},
   "source": [
    "# Import necessary modules"
   ]
  },
  {
   "cell_type": "code",
   "execution_count": null,
   "metadata": {},
   "outputs": [],
   "source": [
    "import pathlib\n",
    "\n",
    "import ipywidgets as widgets\n",
    "\n",
    "import ipyniivue\n",
    "from ipyniivue import MultiplanarType, NiiVue, download_dataset"
   ]
  },
  {
   "cell_type": "markdown",
   "metadata": {},
   "source": [
    "# Download required data"
   ]
  },
  {
   "cell_type": "code",
   "execution_count": null,
   "metadata": {},
   "outputs": [],
   "source": [
    "DATA_FOLDER = pathlib.Path(ipyniivue.__file__).parent / \"images\"\n",
    "download_dataset(\n",
    "    dest_folder=DATA_FOLDER,\n",
    "    files=[\n",
    "        \"pcasl.nii.gz\",\n",
    "        \"aal.nii.gz\",\n",
    "        \"mni152.nii.gz\",\n",
    "    ],\n",
    ")"
   ]
  },
  {
   "cell_type": "markdown",
   "metadata": {},
   "source": [
    "# Create NiiVue instances"
   ]
  },
  {
   "cell_type": "code",
   "execution_count": null,
   "metadata": {},
   "outputs": [],
   "source": [
    "nv1 = NiiVue(multiplanar_force_render=True)\n",
    "nv2 = NiiVue(multiplanar_force_render=True)\n",
    "nv3 = NiiVue(multiplanar_force_render=True)\n",
    "\n",
    "nv1.load_volumes([{\"path\": DATA_FOLDER / \"pcasl.nii.gz\"}])\n",
    "nv2.load_volumes([{\"path\": DATA_FOLDER / \"aal.nii.gz\"}])\n",
    "nv3.load_volumes([{\"path\": DATA_FOLDER / \"mni152.nii.gz\"}])"
   ]
  },
  {
   "cell_type": "markdown",
   "metadata": {},
   "source": [
    "# Set up on_location_change event handlers"
   ]
  },
  {
   "cell_type": "code",
   "execution_count": null,
   "metadata": {},
   "outputs": [],
   "source": [
    "status1 = widgets.Output()\n",
    "status2 = widgets.Output()\n",
    "status3 = widgets.Output()\n",
    "\n",
    "\n",
    "def handle_change1(location):\n",
    "    \"\"\"Status 1.\"\"\"\n",
    "    with status1:\n",
    "        status1.clear_output()\n",
    "        print(location.get(\"string\", \"\"))\n",
    "\n",
    "\n",
    "def handle_change2(location):\n",
    "    \"\"\"Status 2.\"\"\"\n",
    "    with status2:\n",
    "        status2.clear_output()\n",
    "        print(location.get(\"string\", \"\"))\n",
    "\n",
    "\n",
    "def handle_change3(location):\n",
    "    \"\"\"Status 3.\"\"\"\n",
    "    with status3:\n",
    "        status3.clear_output()\n",
    "        print(location.get(\"string\", \"\"))\n",
    "\n",
    "\n",
    "nv1.on_location_change(handle_change1)\n",
    "nv2.on_location_change(handle_change2)\n",
    "nv3.on_location_change(handle_change3)"
   ]
  },
  {
   "cell_type": "markdown",
   "metadata": {},
   "source": [
    "# Sync/broadcasting"
   ]
  },
  {
   "cell_type": "code",
   "execution_count": null,
   "metadata": {},
   "outputs": [],
   "source": [
    "nv1.broadcast_to([nv2, nv3], {\"2d\": True, \"3d\": True})\n",
    "nv2.broadcast_to([nv1, nv3], {\"2d\": True, \"3d\": True})\n",
    "nv3.broadcast_to([nv1, nv2], {\"2d\": True, \"3d\": True})"
   ]
  },
  {
   "cell_type": "markdown",
   "metadata": {},
   "source": [
    "# Create dropdown widgets for layout and synchronization options"
   ]
  },
  {
   "cell_type": "code",
   "execution_count": null,
   "metadata": {},
   "outputs": [],
   "source": [
    "layout_options = {\n",
    "    \"Auto\": MultiplanarType.AUTO,\n",
    "    \"Column\": MultiplanarType.COLUMN,\n",
    "    \"Grid\": MultiplanarType.GRID,\n",
    "    \"Row\": MultiplanarType.ROW,\n",
    "}\n",
    "\n",
    "layout_dropdown = widgets.Dropdown(\n",
    "    options=layout_options, value=MultiplanarType.AUTO, description=\"Layout\"\n",
    ")\n",
    "\n",
    "sync_options = {\"Sync Disabled\": 0, \"Sync 2D\": 1, \"Sync 3D\": 2, \"Sync 2D and 3D\": 3}\n",
    "\n",
    "sync_dropdown = widgets.Dropdown(options=sync_options, value=3, description=\"Broadcast\")\n",
    "\n",
    "\n",
    "def on_layout_change(change):\n",
    "    \"\"\"Set multiplanar layout.\"\"\"\n",
    "    value = change[\"new\"]\n",
    "    nv1.set_multiplanar_layout(value)\n",
    "    nv2.set_multiplanar_layout(value)\n",
    "    nv3.set_multiplanar_layout(value)\n",
    "\n",
    "\n",
    "layout_dropdown.observe(on_layout_change, names=\"value\")\n",
    "\n",
    "\n",
    "def on_sync_change(change):\n",
    "    \"\"\"Update broadcast options.\"\"\"\n",
    "    v = change[\"new\"]\n",
    "    is2D = False\n",
    "    is3D = False\n",
    "    if v % 2:\n",
    "        is2D = True\n",
    "    if v > 1:\n",
    "        is3D = True\n",
    "    nv1.broadcast_to([nv2, nv3], {\"2d\": is2D, \"3d\": is3D})\n",
    "    nv2.broadcast_to([nv1, nv3], {\"2d\": is2D, \"3d\": is3D})\n",
    "    nv3.broadcast_to([nv1, nv2], {\"2d\": is2D, \"3d\": is3D})\n",
    "\n",
    "\n",
    "sync_dropdown.observe(on_sync_change, names=\"value\")"
   ]
  },
  {
   "cell_type": "markdown",
   "metadata": {},
   "source": [
    "# Display everything"
   ]
  },
  {
   "cell_type": "code",
   "execution_count": null,
   "metadata": {},
   "outputs": [],
   "source": [
    "# set initial values\n",
    "on_layout_change({\"new\": layout_dropdown.value})\n",
    "on_sync_change({\"new\": sync_dropdown.value})\n",
    "\n",
    "# display all\n",
    "display(\n",
    "    widgets.VBox(\n",
    "        [\n",
    "            widgets.HBox([layout_dropdown, sync_dropdown]),\n",
    "            widgets.VBox([nv1, nv2, nv3]),\n",
    "            widgets.HBox([status1, status2, status3]),\n",
    "        ]\n",
    "    )\n",
    ")"
   ]
  }
 ],
 "metadata": {},
 "nbformat": 4,
 "nbformat_minor": 4
}
