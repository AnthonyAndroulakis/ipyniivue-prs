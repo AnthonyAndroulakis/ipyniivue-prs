{
 "cells": [
  {
   "cell_type": "code",
   "execution_count": 1,
   "id": "36d80248-e8a6-4f27-92c5-98dabf2aec81",
   "metadata": {},
   "outputs": [
    {
     "data": {
      "application/vnd.jupyter.widget-view+json": {
       "model_id": "f049f7486a904ee785cf1699cc6a02b6",
       "version_major": 2,
       "version_minor": 1
      },
      "text/plain": [
       "NiiVue(height=300)"
      ]
     },
     "execution_count": 1,
     "metadata": {},
     "output_type": "execute_result"
    }
   ],
   "source": [
    "from ipyniivue import NiiVue\n",
    "\n",
    "nv = NiiVue(\n",
    "    show_3d_crosshair=True, back_color=(1, 1, 1, 1), mesh_x_ray=0.3, is_colorbar=True\n",
    ")\n",
    "\n",
    "mesh_layer = {\n",
    "    \"path\": \"images/BrainMesh_ICBM152.lh.motor.mz3\",\n",
    "    \"cal_min\": 0.5,\n",
    "    \"cal_max\": 5.5,\n",
    "    \"useNegativeCmap\": True,\n",
    "    \"opacity\": 0.7,\n",
    "}\n",
    "\n",
    "nv.load_meshes(\n",
    "    [\n",
    "        {\n",
    "            \"path\": \"images/BrainMesh_ICBM152.lh.mz3\",\n",
    "            \"rgba255\": [255, 255, 255, 255],\n",
    "            \"layers\": [mesh_layer],\n",
    "        },\n",
    "        {\"path\": \"images/CIT168.mz3\", \"rgba255\": [0, 0, 255, 255]},\n",
    "    ]\n",
    ")\n",
    "\n",
    "nv"
   ]
  },
  {
   "cell_type": "code",
   "execution_count": 3,
   "id": "956fe2ef-3180-44cc-a81e-05efc783ee05",
   "metadata": {},
   "outputs": [],
   "source": [
    "nv.meshes[0].rgba255 = [200, 200, 200, 0]"
   ]
  },
  {
   "cell_type": "code",
   "execution_count": null,
   "id": "69a4c0b3",
   "metadata": {},
   "outputs": [],
   "source": []
  }
 ],
 "metadata": {
  "kernelspec": {
   "display_name": "Python 3 (ipykernel)",
   "language": "python",
   "name": "python3"
  },
  "language_info": {
   "codemirror_mode": {
    "name": "ipython",
    "version": 3
   },
   "file_extension": ".py",
   "mimetype": "text/x-python",
   "name": "python",
   "nbconvert_exporter": "python",
   "pygments_lexer": "ipython3",
   "version": "3.11.6"
  }
 },
 "nbformat": 4,
 "nbformat_minor": 5
}
