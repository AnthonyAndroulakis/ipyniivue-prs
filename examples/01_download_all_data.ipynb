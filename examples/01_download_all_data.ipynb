{
 "cells": [
  {
   "cell_type": "code",
   "execution_count": null,
   "metadata": {},
   "outputs": [],
   "source": [
    "# Import necessary libraries\n",
    "import os\n",
    "\n",
    "import requests\n",
    "\n",
    "# GitHub API URL for the base folder\n",
    "BASE_API_URL = \"https://api.github.com/repos/niivue/niivue/contents\"\n",
    "FOLDER_PATH = \"demos/images\"\n",
    "REF = \"main\"\n",
    "\n",
    "# Folder where files will be saved\n",
    "DEST_FOLDER = \"images\"\n",
    "\n",
    "def fetch_and_download(api_url, dest_folder):\n",
    "    \"\"\"Fetch and download files recursively.\"\"\"\n",
    "    print(f\"Fetching contents from {api_url}...\")\n",
    "    os.makedirs(dest_folder, exist_ok=True)\n",
    "    response = requests.get(api_url)\n",
    "    if response.status_code != 200:\n",
    "        print(f\"Failed to fetch {api_url}: {response.status_code}\")\n",
    "        return\n",
    "\n",
    "    file_list = response.json()\n",
    "    for item in file_list:\n",
    "        item_type = item['type']\n",
    "        download_url = item.get('download_url', '') if item_type == 'file' else ''\n",
    "        name = item['name']\n",
    "        path = item['path']\n",
    "\n",
    "        if item_type == 'file':\n",
    "            print(f\"Downloading {name}...\")\n",
    "            file_response = requests.get(download_url)\n",
    "            if file_response.status_code == 200:\n",
    "                with open(os.path.join(dest_folder, name), 'wb') as f:\n",
    "                    f.write(file_response.content)\n",
    "            else:\n",
    "                print(f\"Failed to download {name}: {file_response.status_code}\")\n",
    "        elif item_type == 'dir':\n",
    "            print(f\"Entering directory {name}...\")\n",
    "            subfolder = os.path.join(dest_folder, name)\n",
    "            sub_api_url = f\"{BASE_API_URL}/{path}?ref={REF}\"\n",
    "            fetch_and_download(sub_api_url, subfolder)\n",
    "\n",
    "# Start the recursive downloading\n",
    "fetch_and_download(f\"{BASE_API_URL}/{FOLDER_PATH}?ref={REF}\", DEST_FOLDER)\n",
    "\n",
    "print(f\"All files and subdirectories have been downloaded to {DEST_FOLDER}.\")"
   ]
  },
  {
   "cell_type": "code",
   "execution_count": null,
   "metadata": {},
   "outputs": [],
   "source": []
  }
 ],
 "metadata": {
  "kernelspec": {
   "display_name": "Python 3 (ipykernel)",
   "language": "python",
   "name": "python3"
  },
  "language_info": {
   "codemirror_mode": {
    "name": "ipython",
    "version": 3
   },
   "file_extension": ".py",
   "mimetype": "text/x-python",
   "name": "python",
   "nbconvert_exporter": "python",
   "pygments_lexer": "ipython3",
   "version": "3.11.6"
  }
 },
 "nbformat": 4,
 "nbformat_minor": 4
}
