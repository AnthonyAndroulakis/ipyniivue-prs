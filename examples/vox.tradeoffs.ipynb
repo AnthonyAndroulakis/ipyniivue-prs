{
 "cells": [
  {
   "cell_type": "markdown",
   "id": "aab82a7f-d6d6-49b0-aa58-07ba0bfca253",
   "metadata": {},
   "source": [
    "#### This page shows features that may provide poor volume rendering performance on slow devices. \n",
    "#### Using anti-aliasing, high-DPI, and reflective volume rendering modes all impact performance.\n",
    "\n",
    "This example is based off of [https://niivue.com/demos/features/vox.tradeoffs.html](https://niivue.com/demos/features/vox.tradeoffs.html)."
   ]
  },
  {
   "cell_type": "markdown",
   "id": "ffa68f55-b7e6-42e2-a578-ed5c35b6f933",
   "metadata": {},
   "source": [
    "# Import modules"
   ]
  },
  {
   "cell_type": "code",
   "execution_count": null,
   "id": "8589017f-8c5d-4898-8c06-0c22cfb162fc",
   "metadata": {},
   "outputs": [],
   "source": [
    "import json\n",
    "import pathlib\n",
    "\n",
    "import ipywidgets as widgets\n",
    "\n",
    "import ipyniivue\n",
    "from ipyniivue import NiiVue, download_dataset\n",
    "from ipyniivue.constants import ShowRender, SliceType"
   ]
  },
  {
   "cell_type": "markdown",
   "id": "ea499b8f-dc81-4cd1-9abb-1794b0b3f78d",
   "metadata": {},
   "source": [
    "# Download required data"
   ]
  },
  {
   "cell_type": "code",
   "execution_count": null,
   "id": "feebe177-776f-4419-9487-168d81bdde79",
   "metadata": {},
   "outputs": [],
   "source": [
    "DATA_FOLDER = pathlib.Path(ipyniivue.__file__).parent / \"images\"\n",
    "\n",
    "download_dataset(\n",
    "    files=[\"mni152.nii.gz\", \"aal.nii.gz\", \"stats.nv_demo_mskd.nii.gz\", \"aal.json\"],\n",
    ")"
   ]
  },
  {
   "cell_type": "markdown",
   "id": "64d10ff8-0569-4078-b209-c6a659b0fa72",
   "metadata": {},
   "source": [
    "# Create an instance of NiiVue and load the volumes"
   ]
  },
  {
   "cell_type": "code",
   "execution_count": null,
   "id": "90c4e4db-f965-44f5-8fa0-51528122bbae",
   "metadata": {},
   "outputs": [],
   "source": [
    "nv = NiiVue(\n",
    "    back_color=(1, 1, 1, 1),\n",
    "    show_3d_crosshair=True,\n",
    "    multiplanar_show_render=ShowRender.ALWAYS,\n",
    "    is_colorbar=True,\n",
    "    slice_type=SliceType.MULTIPLANAR,\n",
    ")\n",
    "\n",
    "volume_list = [\n",
    "    {\"path\": DATA_FOLDER / \"mni152.nii.gz\"},\n",
    "    {\"path\": DATA_FOLDER / \"aal.nii.gz\"},\n",
    "    {\n",
    "        \"path\": DATA_FOLDER / \"stats.nv_demo_mskd.nii.gz\",\n",
    "        \"colormap\": \"warm\",\n",
    "        \"colormap_negative\": \"winter\",\n",
    "        \"frame4D\": 1,\n",
    "        \"cal_min\": 3.3641,\n",
    "        \"cal_max\": 6,\n",
    "    },\n",
    "]\n",
    "\n",
    "nv.load_volumes(volume_list)\n",
    "\n",
    "# Hide colorbars for volumes 0 and 1\n",
    "nv.volumes[0].colorbar_visible = False\n",
    "nv.volumes[1].colorbar_visible = False"
   ]
  },
  {
   "cell_type": "markdown",
   "id": "05345f11-ba4b-4213-bcb9-728c1b32d8ad",
   "metadata": {},
   "source": [
    "# Set colormap on volume load"
   ]
  },
  {
   "cell_type": "code",
   "execution_count": null,
   "id": "f6bc17c8-1b8a-496d-9cc9-ebedb787924b",
   "metadata": {},
   "outputs": [],
   "source": [
    "@nv.on_image_loaded\n",
    "def handle_image_loaded(volume):\n",
    "    \"\"\"Update colormap label on image loaded.\"\"\"\n",
    "    if volume.name == \"aal.nii.gz\":\n",
    "        with open(DATA_FOLDER / \"aal.json\") as f:\n",
    "            cmap = json.load(f)\n",
    "        volume.set_colormap_label(cmap)"
   ]
  },
  {
   "cell_type": "markdown",
   "id": "4c4e2c07-42b6-41f4-957d-d96057abd2d6",
   "metadata": {},
   "source": [
    "# Create location status bar"
   ]
  },
  {
   "cell_type": "code",
   "execution_count": null,
   "id": "dd946174-db32-458c-af04-46067fc4b5f2",
   "metadata": {},
   "outputs": [],
   "source": [
    "status_bar = widgets.Label(value=\"\")\n",
    "\n",
    "\n",
    "@nv.on_location_change\n",
    "def handle_location_change(location):\n",
    "    \"\"\"Display location.\"\"\"\n",
    "    status_bar.value = location[\"string\"]"
   ]
  },
  {
   "cell_type": "markdown",
   "id": "b90ffc07-c4d9-4712-8354-1c63bec3366e",
   "metadata": {},
   "source": [
    "# Create extra widgets"
   ]
  },
  {
   "cell_type": "code",
   "execution_count": null,
   "id": "afd132f2-d8cd-42f6-a4db-89e6d0bb4f58",
   "metadata": {},
   "outputs": [],
   "source": [
    "aa_check = widgets.Checkbox(value=True, description=\"AntiAlias\")\n",
    "dpi_check = widgets.Checkbox(value=True, description=\"HighDPI\")\n",
    "render_mode = widgets.Dropdown(\n",
    "    options=[\n",
    "        (\"slices\", \"-1\"),\n",
    "        (\"matte\", \"0\"),\n",
    "        (\"low\", \"0.3\"),\n",
    "        (\"medium\", \"0.6\"),\n",
    "        (\"high\", \"1.0\"),\n",
    "    ],\n",
    "    value=\"0.6\",\n",
    "    description=\"Render Mode\",\n",
    ")\n",
    "atlas_slider = widgets.IntSlider(\n",
    "    value=64, min=0, max=255, description=\"Atlas\", orientation=\"horizontal\"\n",
    ")\n",
    "stat_slider = widgets.IntSlider(\n",
    "    value=255, min=0, max=255, description=\"Statistics\", orientation=\"horizontal\"\n",
    ")\n",
    "\n",
    "\n",
    "def on_dpi_check_change(change):\n",
    "    \"\"\"Set high resolution capable.\"\"\"\n",
    "    nv.set_high_resolution_capable(change[\"new\"])\n",
    "\n",
    "\n",
    "def on_render_mode_change(change):\n",
    "    \"\"\"Set volume render illumination.\"\"\"\n",
    "    nv.set_volume_render_illumination(float(change[\"new\"]))\n",
    "\n",
    "\n",
    "def on_atlas_slider_change(change):\n",
    "    \"\"\"Set 2nd volume opacity.\"\"\"\n",
    "    nv.volumes[1].opacity = change[\"new\"] / 255.0\n",
    "\n",
    "\n",
    "def on_stat_slider_change(change):\n",
    "    \"\"\"Set 3rd volume opacity.\"\"\"\n",
    "    nv.volumes[2].opacity = change[\"new\"] / 255.0\n",
    "\n",
    "\n",
    "def on_aa_check_change(change):\n",
    "    \"\"\"Update is_anti_alias option.\"\"\"\n",
    "    nv.is_anti_alias = change[\"new\"]\n",
    "\n",
    "\n",
    "dpi_check.observe(on_dpi_check_change, names=\"value\")\n",
    "render_mode.observe(on_render_mode_change, names=\"value\")\n",
    "atlas_slider.observe(on_atlas_slider_change, names=\"value\")\n",
    "stat_slider.observe(on_stat_slider_change, names=\"value\")\n",
    "aa_check.observe(on_aa_check_change, names=\"value\")"
   ]
  },
  {
   "cell_type": "markdown",
   "id": "0fe4e924-0a97-4111-98f3-45c6e7b0a716",
   "metadata": {},
   "source": [
    "# Display all"
   ]
  },
  {
   "cell_type": "code",
   "execution_count": null,
   "id": "a3c901dd-d525-44c3-b4a2-e3851153b38c",
   "metadata": {},
   "outputs": [],
   "source": [
    "on_aa_check_change({\"new\": aa_check.value})\n",
    "on_dpi_check_change({\"new\": dpi_check.value})\n",
    "on_render_mode_change({\"new\": render_mode.value})\n",
    "on_atlas_slider_change({\"new\": atlas_slider.value})\n",
    "on_stat_slider_change({\"new\": stat_slider.value})\n",
    "\n",
    "widgets.VBox(\n",
    "    [\n",
    "        widgets.HBox([aa_check, dpi_check, render_mode]),\n",
    "        widgets.HBox([atlas_slider, stat_slider]),\n",
    "        nv,\n",
    "        status_bar,\n",
    "    ]\n",
    ")"
   ]
  }
 ],
 "metadata": {
  "kernelspec": {
   "display_name": "Python 3 (ipykernel)",
   "language": "python",
   "name": "python3"
  },
  "language_info": {
   "name": ""
  },
  "widgets": {
   "application/vnd.jupyter.widget-state+json": {
    "state": {},
    "version_major": 2,
    "version_minor": 0
   }
  }
 },
 "nbformat": 4,
 "nbformat_minor": 5
}
