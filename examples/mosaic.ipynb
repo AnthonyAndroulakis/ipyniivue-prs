{
 "cells": [
  {
   "cell_type": "code",
   "execution_count": 1,
   "id": "06ce55d2-8e3a-4ec1-b031-7fdf65200463",
   "metadata": {},
   "outputs": [
    {
     "name": "stdout",
     "output_type": "stream",
     "text": [
      "Fetching contents from https://api.github.com/repos/niivue/niivue/contents/packages/niivue/demos/images...\n",
      "Entering directory afni...\n",
      "Fetching contents from https://api.github.com/repos/niivue/niivue/contents/packages/niivue/demos/images/afni...\n",
      "All files and subdirectories have been downloaded to /gpfs/home/jolinda/scripts/ipyniivue/src/ipyniivue/images/afni.\n",
      "Entering directory fs...\n",
      "Fetching contents from https://api.github.com/repos/niivue/niivue/contents/packages/niivue/demos/images/fs...\n",
      "All files and subdirectories have been downloaded to /gpfs/home/jolinda/scripts/ipyniivue/src/ipyniivue/images/fs.\n",
      "Entering directory mz3...\n",
      "Fetching contents from https://api.github.com/repos/niivue/niivue/contents/packages/niivue/demos/images/mz3...\n",
      "All files and subdirectories have been downloaded to /gpfs/home/jolinda/scripts/ipyniivue/src/ipyniivue/images/mz3.\n",
      "Entering directory trix...\n",
      "Fetching contents from https://api.github.com/repos/niivue/niivue/contents/packages/niivue/demos/images/trix...\n",
      "All files and subdirectories have been downloaded to /gpfs/home/jolinda/scripts/ipyniivue/src/ipyniivue/images/trix.\n",
      "All files and subdirectories have been downloaded to /gpfs/home/jolinda/scripts/ipyniivue/src/ipyniivue/images.\n"
     ]
    }
   ],
   "source": [
    "import ipywidgets as widgets\n",
    "\n",
    "from ipyniivue import NiiVue, download_dataset\n",
    "from ipyniivue.download_dataset import DATA_FOLDER\n",
    "\n",
    "# Downloads all data for examples\n",
    "download_dataset()"
   ]
  },
  {
   "cell_type": "markdown",
   "id": "f74748f4-61da-40e7-aff9-4aa284451f01",
   "metadata": {},
   "source": [
    "## Mosaic strings\n",
    "Mosaic coordinates are preceded by one or more labels. The first label is orientation:  \n",
    "\n",
    "A: axial\n",
    "C: coronal\n",
    "S: sagittal\n",
    "\n",
    "Numbers after the orientation label indicate slices in the real-world coordinate system, defined by the volume's affine transformation matrix. So the string:  \n",
    "`A 10.0 20.4 30`  \n",
    "would indicate axial slices at 10.0, 20.4, and 30 mm.  \n",
    "\n",
    "Additional labels may be used to render a volume (R) and to show the location of other slices in the mosaic (X). In the case of a volume render, the value of the coordinate is ignored and the sign indicates the view orientation."
   ]
  },
  {
   "cell_type": "code",
   "execution_count": 2,
   "id": "635f28ad-934a-4091-abf2-e4e194462981",
   "metadata": {},
   "outputs": [
    {
     "data": {
      "application/vnd.jupyter.widget-view+json": {
       "model_id": "c830d320cadd43a18329fa348ae1e497",
       "version_major": 2,
       "version_minor": 0
      },
      "text/plain": [
       "Text(value='A -20 50 60 70 C -10 -20 -50; S R X 0 R X -0', description='Slice mosaic string', layout=Layout(wi…"
      ]
     },
     "metadata": {},
     "output_type": "display_data"
    },
    {
     "data": {
      "application/vnd.jupyter.widget-view+json": {
       "model_id": "138b3615a9ae426f96e479cc70e11a88",
       "version_major": 2,
       "version_minor": 1
      },
      "text/plain": [
       "NiiVue(height=300)"
      ]
     },
     "metadata": {},
     "output_type": "display_data"
    }
   ],
   "source": [
    "# example based on https://niivue.github.io/niivue/features/mosaic.html\n",
    "# Note that this example does NOT show orientation labels, and L/R might not be what you expect.\n",
    "volumes = [\n",
    "    {\n",
    "        \"path\": DATA_FOLDER / \"mni152.nii.gz\",\n",
    "        \"colormap\": \"gray\",\n",
    "        \"visible\": True,\n",
    "        \"opacity\": 1.0,\n",
    "    },\n",
    "    {\n",
    "        \"path\": DATA_FOLDER / \"hippo.nii.gz\",\n",
    "        \"colormap\": \"red\",\n",
    "        \"visible\": True,\n",
    "        \"opacity\": 1,\n",
    "    },\n",
    "]\n",
    "nv = NiiVue()\n",
    "nv.load_volumes(volumes)\n",
    "\n",
    "\n",
    "style = {'description_width': 'initial'}\n",
    "string_widget = widgets.Text(value='A -20 50 60 70 C -10 -20 -50; S R X 0 R X -0',\n",
    "                             description='Slice mosaic string', style=style)\n",
    "string_widget.layout.width = 'auto'\n",
    "\n",
    "nv.slice_mosaic_string = string_widget.value\n",
    "\n",
    "def update_view(*args):\n",
    "    nv.slice_mosaic_string = string_widget.value\n",
    "\n",
    "string_widget.observe(update_view, \"value\")\n",
    "\n",
    "display(string_widget)\n",
    "display(nv)"
   ]
  },
  {
   "cell_type": "markdown",
   "id": "a6dcfc38-9eb2-406a-8aae-44136387c7e7",
   "metadata": {},
   "source": [
    "# Full mosaic demo\n",
    "For this, we'll use nibabel to get the dimensions of the volume we're looking at."
   ]
  },
  {
   "cell_type": "code",
   "execution_count": 9,
   "id": "7332152b-1073-4112-a231-a04d402ae2d0",
   "metadata": {},
   "outputs": [],
   "source": [
    "#Importing nibabel. Since nibabel isn't currently in the ipyniivue requirements, you might need to install it.\n",
    "try:\n",
    "    import nibabel as nib\n",
    "except ModuleNotFoundError:\n",
    "    !pip install nibabel\n",
    "    import nibabel as nib\n",
    "\n",
    "import numpy as np"
   ]
  },
  {
   "cell_type": "code",
   "execution_count": 4,
   "id": "adbbd8cc-753d-4419-bab9-ad235f15b25a",
   "metadata": {},
   "outputs": [],
   "source": [
    "orientations = {'sagittal':0, 'coronal':1, 'axial':2}"
   ]
  },
  {
   "cell_type": "code",
   "execution_count": 11,
   "id": "1e64e68b-3c3b-4f5d-98c0-3393bc5d560a",
   "metadata": {},
   "outputs": [],
   "source": [
    "# get coordinates for the slices in each orientation\n",
    "def get_coords(image_file):\n",
    "    img = nib.load(image_file)\n",
    "    for label,axis in orientations.items():\n",
    "        coords[label] = [x*img.affine[axis][axis] + img.affine[axis][3] for x in range(0, img.shape[axis])]\n",
    "    return coords"
   ]
  },
  {
   "cell_type": "code",
   "execution_count": 6,
   "id": "890dd3d9-3125-408a-b538-381478daa0e6",
   "metadata": {},
   "outputs": [],
   "source": [
    "# get string for full mosaic with N columns (default: sqrt of shape) and step size N\n",
    "def full_mosaic(coords, ncols=None, step=1, orientation='axial'):\n",
    "    prefix = orientation[0].upper()\n",
    "    if not ncols:\n",
    "        ncols = int(np.sqrt(len(coords[orientation])))\n",
    "\n",
    "    ms=''\n",
    "    for i,x in enumerate(range(0, len(coords[orientation]), step)):\n",
    "        if not i%ncols:\n",
    "            if ms=='':\n",
    "                ms=ms+f'{prefix} '\n",
    "            else:\n",
    "                ms=ms+f'; {prefix} '\n",
    "        ms=ms+f'{coords[orientation][x]:.02f} '\n",
    "    return ms"
   ]
  },
  {
   "cell_type": "code",
   "execution_count": 7,
   "id": "5e56e3fd-4fcb-4b16-bd2f-b66ab8c65776",
   "metadata": {},
   "outputs": [
    {
     "data": {
      "application/vnd.jupyter.widget-view+json": {
       "model_id": "aa5e815fae4942149413dd1da9336625",
       "version_major": 2,
       "version_minor": 0
      },
      "text/plain": [
       "IntSlider(value=10, description='Columns', max=20)"
      ]
     },
     "metadata": {},
     "output_type": "display_data"
    },
    {
     "data": {
      "application/vnd.jupyter.widget-view+json": {
       "model_id": "e521a8f3e4894f95861dff773e21967a",
       "version_major": 2,
       "version_minor": 0
      },
      "text/plain": [
       "IntSlider(value=5, description='Steps', max=20, min=1)"
      ]
     },
     "metadata": {},
     "output_type": "display_data"
    },
    {
     "data": {
      "application/vnd.jupyter.widget-view+json": {
       "model_id": "973235b320df4e0aba63c194589a4350",
       "version_major": 2,
       "version_minor": 0
      },
      "text/plain": [
       "IntSlider(value=300, description='Height', max=1000, min=100)"
      ]
     },
     "metadata": {},
     "output_type": "display_data"
    },
    {
     "data": {
      "application/vnd.jupyter.widget-view+json": {
       "model_id": "83abc2dc6a064504b6b05774844fa92a",
       "version_major": 2,
       "version_minor": 0
      },
      "text/plain": [
       "Dropdown(description='View', options=('axial', 'sagittal', 'coronal'), value='axial')"
      ]
     },
     "metadata": {},
     "output_type": "display_data"
    },
    {
     "data": {
      "application/vnd.jupyter.widget-view+json": {
       "model_id": "aba3996248044cd89648671d9382d791",
       "version_major": 2,
       "version_minor": 1
      },
      "text/plain": [
       "NiiVue(height=300)"
      ]
     },
     "metadata": {},
     "output_type": "display_data"
    }
   ],
   "source": [
    "# Putting it all together\n",
    "# By default ipyniivue has a widget height = 300. We'll put that on a slider to let us adjust the image size.\n",
    "\n",
    "t1_image_file = DATA_FOLDER / \"mni152.nii.gz\"\n",
    "coords = get_coords(t1_image_file)\n",
    "\n",
    "volumes = [\n",
    "    {\n",
    "        \"path\": t1_image_file,\n",
    "        \"colormap\": \"gray\",\n",
    "        \"visible\": True,\n",
    "        \"opacity\": 1.0,\n",
    "    },\n",
    "]\n",
    "nv2 = NiiVue()\n",
    "nv2.load_volumes(volumes)\n",
    "\n",
    "# Start by showing every 5th slice, with 10 columns\n",
    "init_cols = 10\n",
    "init_step = 5\n",
    "nv2.slice_mosaic_string = full_mosaic(coords, ncols=init_cols, step=init_step)\n",
    "\n",
    "axis_selector = widgets.Dropdown(options=['axial','sagittal','coronal'], description='View')\n",
    "column_slider = widgets.IntSlider(min=0, max=20, value=init_cols, description='Columns')\n",
    "step_slider = widgets.IntSlider(min=1, max=20, value=init_step, description='Steps')\n",
    "size_slider = widgets.IntSlider(min=100, max=1000, value=300, description='Height')\n",
    "\n",
    "def update_mosaic(*args):\n",
    "    nv2.slice_mosaic_string = full_mosaic(coords, step=step_slider.value, ncols=column_slider.value,\n",
    "                                          orientation=axis_selector.value)\n",
    "\n",
    "def update_view(*args):\n",
    "    nv2.height=size_slider.value\n",
    "\n",
    "column_slider.observe(update_mosaic, \"value\")\n",
    "step_slider.observe(update_mosaic, \"value\")\n",
    "axis_selector.observe(update_mosaic, \"value\")\n",
    "size_slider.observe(update_view, \"value\")\n",
    "\n",
    "display(column_slider)\n",
    "display(step_slider)\n",
    "display(size_slider)\n",
    "display(axis_selector)\n",
    "display(nv2)\n"
   ]
  },
  {
   "cell_type": "markdown",
   "id": "d63ebcd5-8691-4e53-acf4-2acd5151e34d",
   "metadata": {},
   "source": [
    "## 4D mosaic viewer"
   ]
  },
  {
   "cell_type": "code",
   "execution_count": 8,
   "id": "ce46ddc0-5fc8-488a-aa5a-3836f81e5af1",
   "metadata": {},
   "outputs": [
    {
     "data": {
      "application/vnd.jupyter.widget-view+json": {
       "model_id": "1cc69f2b4058415bbee1e6aa174ec8fd",
       "version_major": 2,
       "version_minor": 0
      },
      "text/plain": [
       "IntSlider(value=5, description='Columns', max=20)"
      ]
     },
     "metadata": {},
     "output_type": "display_data"
    },
    {
     "data": {
      "application/vnd.jupyter.widget-view+json": {
       "model_id": "c799fa67579e46c5a4f00421fc75b928",
       "version_major": 2,
       "version_minor": 0
      },
      "text/plain": [
       "IntSlider(value=0, description='Volume', max=9)"
      ]
     },
     "metadata": {},
     "output_type": "display_data"
    },
    {
     "data": {
      "application/vnd.jupyter.widget-view+json": {
       "model_id": "596f82272a0249eda36bbd6ab08e0a6f",
       "version_major": 2,
       "version_minor": 0
      },
      "text/plain": [
       "IntSlider(value=300, description='Height', max=1000, min=100)"
      ]
     },
     "metadata": {},
     "output_type": "display_data"
    },
    {
     "data": {
      "application/vnd.jupyter.widget-view+json": {
       "model_id": "05e5176d022d4a6293a2dc6418b9a07b",
       "version_major": 2,
       "version_minor": 1
      },
      "text/plain": [
       "NiiVue(height=300)"
      ]
     },
     "metadata": {},
     "output_type": "display_data"
    }
   ],
   "source": [
    "example4d = DATA_FOLDER / \"pcasl.nii.gz\"\n",
    "coords4d = get_coords(example4d)\n",
    "\n",
    "volumes = [\n",
    "    {\n",
    "        \"path\": example4d,\n",
    "        \"colormap\": \"gray\",\n",
    "        \"visible\": True,\n",
    "        \"opacity\": 1.0,\n",
    "    },\n",
    "]\n",
    "nv3 = NiiVue()\n",
    "nv3.load_volumes(volumes)\n",
    "\n",
    "nvols = nib.load(example4d).shape[-1]\n",
    "init_cols = np.ceil(np.sqrt(nib.load(example4d).shape[2]))\n",
    "\n",
    "nv3.slice_mosaic_string = full_mosaic(coords4d, ncols=init_cols)\n",
    "\n",
    "column_slider4d = widgets.IntSlider(min=0, max=20, value=init_cols, description='Columns')\n",
    "vol_slider4d =  widgets.IntSlider(min=0, max=nvols - 1, description=\"Volume\")\n",
    "size_slider4d = widgets.IntSlider(min=100, max=1000, value=300, description='Height')\n",
    "\n",
    "def update_mosaic4d(*args):\n",
    "    nv3.volumes[0].frame4D = vol_slider4d.value\n",
    "    nv3.slice_mosaic_string = full_mosaic(coords4d, ncols=column_slider4d.value)\n",
    "\n",
    "def update_view4d(*args):\n",
    "    nv3.height=size_slider4d.value\n",
    "\n",
    "column_slider4d.observe(update_mosaic4d, \"value\")\n",
    "vol_slider4d.observe(update_mosaic4d, \"value\")\n",
    "size_slider4d.observe(update_view4d, \"value\")\n",
    "\n",
    "display(column_slider4d)\n",
    "display(vol_slider4d)\n",
    "display(size_slider4d)\n",
    "display(nv3)"
   ]
  },
  {
   "cell_type": "code",
   "execution_count": null,
   "id": "91e168fc-4a4c-4b7b-941d-8a96bc8a4842",
   "metadata": {},
   "outputs": [],
   "source": []
  }
 ],
 "metadata": {
  "kernelspec": {
   "display_name": "Python 3 (ipykernel)",
   "language": "python",
   "name": "python3"
  },
  "language_info": {
   "codemirror_mode": {
    "name": "ipython",
    "version": 3
   },
   "file_extension": ".py",
   "mimetype": "text/x-python",
   "name": "python",
   "nbconvert_exporter": "python",
   "pygments_lexer": "ipython3",
   "version": "3.13.2"
  }
 },
 "nbformat": 4,
 "nbformat_minor": 5
}
