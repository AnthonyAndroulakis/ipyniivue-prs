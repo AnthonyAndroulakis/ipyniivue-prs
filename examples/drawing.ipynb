{
 "cells": [
  {
   "cell_type": "code",
   "execution_count": null,
   "id": "70b9f6d0-5b77-4e04-8913-b4e43bb7690d",
   "metadata": {},
   "outputs": [],
   "source": [
    "!mkdir -p ../images/\n",
    "path=\"https://github.com/niivue/niivue/raw/main/demos/images/\"\n",
    "!wget {path}mni152.nii.gz -P ../images/\n",
    "!wget {path}hippo.nii.gz -P ../images/\n",
    "!wget {path}lesion.nii.gz -P ../images/"
   ]
  },
  {
   "cell_type": "code",
   "execution_count": null,
   "id": "e5216404-c0ed-4539-b70d-402449d3a3ff",
   "metadata": {},
   "outputs": [],
   "source": [
    "from ipyniivue import NiiVue, SliceType\n",
    "\n",
    "volumes = [\n",
    "  { \"path\": \"../images/mni152.nii.gz\", \"colormap\": \"gray\",\n",
    "    \"visible\": True, \"opacity\": 0.8 },\n",
    "    { \"path\": \"../images/lesion.nii.gz\", \"colormap\": \"green\",\n",
    "    \"visible\": True, \"opacity\": 1.0 }\n",
    "]\n",
    "\n",
    "drawings = [\n",
    "    { \"path\": \"../images/lesion.nii.gz\", \"colormap\": [0, 0, 255, 255],\n",
    "    \"visible\": True, \"opacity\": 1.0 }\n",
    "]\n",
    "\n",
    "nv = NiiVue(slice_type=SliceType.MULTIPLANAR)\n",
    "nv.load_volumes(volumes)\n",
    "nv.load_drawings(drawings)\n",
    "nv.drawing_enabled = False\n",
    "nv.pen_value = 1\n",
    "nv.is_filled_pen = False\n",
    "nv.multiplanar_force_render = True\n",
    "nv"
   ]
  },
  {
   "cell_type": "code",
   "execution_count": null,
   "id": "b03cea06-e6b2-45aa-9528-f4209e6f9442",
   "metadata": {},
   "outputs": [],
   "source": []
  }
 ],
 "metadata": {
  "kernelspec": {
   "display_name": "Python 3 (ipykernel)",
   "language": "python",
   "name": "python3"
  },
  "language_info": {
   "codemirror_mode": {
    "name": "ipython",
    "version": 3
   },
   "file_extension": ".py",
   "mimetype": "text/x-python",
   "name": "python",
   "nbconvert_exporter": "python",
   "pygments_lexer": "ipython3",
   "version": "3.12.3"
  }
 },
 "nbformat": 4,
 "nbformat_minor": 5
}
