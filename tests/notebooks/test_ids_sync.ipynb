{
 "cells": [
  {
   "cell_type": "code",
   "execution_count": 1,
   "metadata": {},
   "outputs": [
    {
     "name": "stdout",
     "output_type": "stream",
     "text": [
      "--2025-05-19 10:19:01--  https://niivue.github.io/niivue/images/mni152.nii.gz\n",
      "Resolving niivue.github.io (niivue.github.io)... 185.199.109.153, 185.199.110.153, 185.199.111.153, ...\n",
      "Connecting to niivue.github.io (niivue.github.io)|185.199.109.153|:443... connected.\n",
      "HTTP request sent, awaiting response... 200 OK\n",
      "Length: 4332921 (4.1M) [application/gzip]\n",
      "Saving to: '../images/mni152.nii.gz'\n",
      "\n",
      "mni152.nii.gz       100%[===================>]   4.13M   151KB/s    in 81s     \n",
      "\n",
      "2025-05-19 10:20:23 (52.5 KB/s) - '../images/mni152.nii.gz' saved [4332921/4332921]\n",
      "\n",
      "--2025-05-19 10:20:23--  https://niivue.github.io/niivue/images/hippo.nii.gz\n",
      "Resolving niivue.github.io (niivue.github.io)... 185.199.110.153, 185.199.111.153, 185.199.108.153, ...\n",
      "Connecting to niivue.github.io (niivue.github.io)|185.199.110.153|:443... connected.\n",
      "HTTP request sent, awaiting response... 200 OK\n",
      "Length: 4000 (3.9K) [application/gzip]\n",
      "Saving to: '../images/hippo.nii.gz'\n",
      "\n",
      "hippo.nii.gz        100%[===================>]   3.91K  --.-KB/s    in 0.005s  \n",
      "\n",
      "2025-05-19 10:20:24 (744 KB/s) - '../images/hippo.nii.gz' saved [4000/4000]\n",
      "\n"
     ]
    }
   ],
   "source": [
    "!mkdir -p ../images/\n",
    "path = \"https://niivue.github.io/niivue/images/\"\n",
    "!wget -nc {path}mni152.nii.gz -P ../images/\n",
    "!wget -nc {path}hippo.nii.gz -P ../images/"
   ]
  },
  {
   "cell_type": "code",
   "execution_count": null,
   "metadata": {},
   "outputs": [],
   "source": [
    "import ipyniivue\n",
    "import pathlib"
   ]
  },
  {
   "cell_type": "code",
   "execution_count": null,
   "metadata": {},
   "outputs": [],
   "source": [
    "DATA_FOLDER = pathlib.Path(ipyniivue.__file__).parent.parent.parent / \"tests\" / \"images\"\n",
    "\n",
    "volumes = [\n",
    "    {\n",
    "        \"path\": DATA_FOLDER / \"mni152.nii.gz\",\n",
    "        \"colormap\": \"gray\",\n",
    "        \"visible\": True,\n",
    "        \"opacity\": 1.0,\n",
    "    }\n",
    "]\n",
    "nv = ipyniivue.NiiVue(slice_type=ipyniivue.SliceType.MULTIPLANAR)\n",
    "nv.load_volumes(volumes)\n",
    "nv"
   ]
  },
  {
   "cell_type": "code",
   "execution_count": null,
   "metadata": {},
   "outputs": [],
   "source": [
    "assert len(nv.volumes) == 1, \"Should load 1 volume.\"\n",
    "assert nv.volumes[0].id != '', 'Volume 1 id not synced to backend'"
   ]
  },
  {
   "cell_type": "code",
   "execution_count": null,
   "metadata": {},
   "outputs": [],
   "source": [
    "nv.add_volume({\n",
    "    \"path\": DATA_FOLDER / \"hippo.nii.gz\",\n",
    "    \"colormap\": \"red\",\n",
    "    \"visible\": True,\n",
    "    \"opacity\": 1,\n",
    "})"
   ]
  },
  {
   "cell_type": "code",
   "execution_count": null,
   "metadata": {},
   "outputs": [],
   "source": [
    "assert len(nv.volumes) == 2, \"Should load 2 volumes.\"\n",
    "\n",
    "assert nv.volumes[0].id != '', 'Volume 1 id not synced to backend'\n",
    "assert nv.volumes[1].id != '', 'Volume 2 id not synced to backend'\n",
    "\n",
    "print(\"All volume IDs synced.\")"
   ]
  }
 ],
 "metadata": {
  "kernelspec": {
   "display_name": "Python 3 (ipykernel)",
   "language": "python",
   "name": "python3"
  },
  "language_info": {
   "codemirror_mode": {
    "name": "ipython",
    "version": 3
   },
   "file_extension": ".py",
   "mimetype": "text/x-python",
   "name": "python",
   "nbconvert_exporter": "python",
   "pygments_lexer": "ipython3",
   "version": "3.9.13"
  },
  "widgets": {
   "application/vnd.jupyter.widget-state+json": {
    "state": {},
    "version_major": 2,
    "version_minor": 0
   }
  }
 },
 "nbformat": 4,
 "nbformat_minor": 4
}
